{
  "cells": [
    {
      "metadata": {},
      "cell_type": "markdown",
      "source": "# K Nearest Neighbour (Phishing Dataset)"
    },
    {
      "metadata": {},
      "cell_type": "markdown",
      "source": "### Import modules"
    },
    {
      "metadata": {
        "trusted": true
      },
      "cell_type": "code",
      "source": "from sklearn import datasets\nimport numpy as np\nfrom sklearn.model_selection import train_test_split\nfrom sklearn.preprocessing import StandardScaler\nfrom sklearn.neighbors import KNeighborsClassifier\nfrom sklearn.linear_model import LogisticRegression\nfrom sklearn import tree\nfrom sklearn.metrics import accuracy_score",
      "execution_count": 1,
      "outputs": []
    },
    {
      "metadata": {},
      "cell_type": "markdown",
      "source": "### Define Input and Output"
    },
    {
      "metadata": {
        "trusted": true
      },
      "cell_type": "code",
      "source": "phishing = np.loadtxt('phishing.txt', delimiter=',')\n\n#attribute having_IP_Address  { -1,1 }\n#attribute URL_Length   { 1,0,-1 }\n#attribute Shortining_Service { 1,-1 }\n#attribute having_At_Symbol   { 1,-1 }\n#attribute double_slash_redirecting { -1,1 }\n#attribute Prefix_Suffix  { -1,1 }\n#attribute having_Sub_Domain  { -1,0,1 }\n#attribute SSLfinal_State  { -1,1,0 }\n#attribute Domain_registeration_length { -1,1 }\n#attribute Favicon { 1,-1 }\n#attribute port { 1,-1 }\n#attribute HTTPS_token { -1,1 }\n#attribute Request_URL  { 1,-1 }\n#attribute URL_of_Anchor { -1,0,1 }\n#attribute Links_in_tags { 1,-1,0 }\n#attribute SFH  { -1,1,0 }\n#attribute Submitting_to_email { -1,1 }\n#attribute Abnormal_URL { -1,1 }\n#attribute Redirect  { 0,1 }\n#attribute on_mouseover  { 1,-1 }\n#attribute RightClick  { 1,-1 }\n#attribute popUpWidnow  { 1,-1 }\n#attribute Iframe { 1,-1 }\n#attribute age_of_domain  { -1,1 }\n#attribute DNSRecord   { -1,1 }\n#attribute web_traffic  { -1,0,1 }\n#attribute Page_Rank { -1,1 }\n#attribute Google_Index { 1,-1 }\n#attribute Links_pointing_to_page { 1,0,-1 }\n#attribute Statistical_report { -1,1 }\n#attribute Result  { -1,1 }",
      "execution_count": 2,
      "outputs": []
    },
    {
      "metadata": {},
      "cell_type": "markdown",
      "source": "### Create X and Y data"
    },
    {
      "metadata": {
        "trusted": true
      },
      "cell_type": "code",
      "source": "#X = phishing[:, [1, 5]]\nX = phishing[:, 0:30]\ny = phishing[:,30:31]\nprint('Class labels:', np.unique(y))\n\n\n# Splitting data into 70% training and 30% test data:\nX_train, X_test, y_train, y_test = train_test_split(X,y, test_size=0.3,\n                                                    random_state=1, stratify=y)\ny_train = np.array(y_train.ravel())\ny_test = np.array(y_test.ravel())\n",
      "execution_count": 3,
      "outputs": [
        {
          "output_type": "stream",
          "text": "Class labels: [-1.  1.]\n",
          "name": "stdout"
        }
      ]
    },
    {
      "metadata": {
        "trusted": true
      },
      "cell_type": "code",
      "source": "print(X)",
      "execution_count": 4,
      "outputs": [
        {
          "output_type": "stream",
          "text": "[[-1.  1.  1. ...  1.  1. -1.]\n [ 1.  1.  1. ...  1.  1.  1.]\n [ 1.  0.  1. ...  1.  0. -1.]\n ...\n [ 1. -1.  1. ...  1.  0.  1.]\n [-1. -1.  1. ...  1.  1.  1.]\n [-1. -1.  1. ... -1.  1. -1.]]\n",
          "name": "stdout"
        }
      ]
    },
    {
      "metadata": {},
      "cell_type": "markdown",
      "source": "### Train and Evaluate Data"
    },
    {
      "metadata": {
        "trusted": true
      },
      "cell_type": "code",
      "source": "\nknn = KNeighborsClassifier(n_neighbors=5, p=2, metric='minkowski')\nknn.fit(X_train, y_train)\nknn_pred = knn.predict(X_test)\n\nprint('knn Misclassified samples: %d' % (y_test != knn_pred).sum())\nprint('Accuracy Score: %.2f' % accuracy_score(y_test, knn_pred))\nprint('Knn Score: %.2f' % knn.score(X_test, y_test))",
      "execution_count": 5,
      "outputs": [
        {
          "output_type": "stream",
          "text": "knn Misclassified samples: 211\nAccuracy Score: 0.94\nKnn Score: 0.94\n",
          "name": "stdout"
        }
      ]
    },
    {
      "metadata": {
        "trusted": true
      },
      "cell_type": "code",
      "source": "Log_reg = LogisticRegression()\nLog_reg.fit(X_train, y_train)\nLog_reg_pred = Log_reg.predict(X_test)\n\nprint('Log_reg Misclassified samples: %d' % (y_test != Log_reg_pred).sum())\nprint('Accuracy Score: %.2f' % accuracy_score(y_test, Log_reg_pred))\nprint('Log_reg Score: %.2f' % Log_reg.score(X_test, y_test))",
      "execution_count": 6,
      "outputs": [
        {
          "output_type": "stream",
          "text": "Log_reg Misclassified samples: 250\nAccuracy Score: 0.92\nLog_reg Score: 0.92\n",
          "name": "stdout"
        }
      ]
    },
    {
      "metadata": {
        "trusted": true
      },
      "cell_type": "code",
      "source": "Dec_tree = tree.DecisionTreeClassifier()\nDec_tree.fit(X_train, y_train)\nDec_tree_pred = Dec_tree.predict(X_test)\n\nprint('Dec_tree Misclassified samples: %d' % (y_test != Dec_tree_pred).sum())\nprint('Accuracy Score: %.2f' % accuracy_score(y_test, Dec_tree_pred))\nprint('Dec_tree Score: %.2f' % Dec_tree.score(X_test, y_test))",
      "execution_count": 7,
      "outputs": [
        {
          "output_type": "stream",
          "text": "Dec_tree Misclassified samples: 163\nAccuracy Score: 0.95\nDec_tree Score: 0.95\n",
          "name": "stdout"
        }
      ]
    },
    {
      "metadata": {
        "trusted": true
      },
      "cell_type": "code",
      "source": "",
      "execution_count": null,
      "outputs": []
    }
  ],
  "metadata": {
    "kernelspec": {
      "name": "python3",
      "display_name": "Python 3",
      "language": "python"
    },
    "language_info": {
      "mimetype": "text/x-python",
      "nbconvert_exporter": "python",
      "name": "python",
      "pygments_lexer": "ipython3",
      "version": "3.5.4",
      "file_extension": ".py",
      "codemirror_mode": {
        "version": 3,
        "name": "ipython"
      }
    }
  },
  "nbformat": 4,
  "nbformat_minor": 2
}